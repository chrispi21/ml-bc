{
  "nbformat": 4,
  "nbformat_minor": 0,
  "metadata": {
    "colab": {
      "name": "07_regression_metrics.ipynb",
      "provenance": [],
      "include_colab_link": true
    },
    "kernelspec": {
      "name": "python3",
      "display_name": "Python 3"
    }
  },
  "cells": [
    {
      "cell_type": "markdown",
      "metadata": {
        "id": "view-in-github",
        "colab_type": "text"
      },
      "source": [
        "<a href=\"https://colab.research.google.com/github/chrispi21/ml-bc/blob/main/supervised/02_regression/07_regression_metrics.ipynb\" target=\"_parent\"><img src=\"https://colab.research.google.com/assets/colab-badge.svg\" alt=\"Open In Colab\"/></a>"
      ]
    },
    {
      "cell_type": "markdown",
      "metadata": {
        "id": "5gjFu2l9IMsj"
      },
      "source": [
        "### scikit-learn\n",
        "Strona biblioteki: [https://scikit-learn.org](https://scikit-learn.org)  \n",
        "\n",
        "Dokumentacja/User Guide: [https://scikit-learn.org/stable/user_guide.html](https://scikit-learn.org/stable/user_guide.html)\n",
        "\n",
        "Podstawowa biblioteka do uczenia maszynowego w języku Python.\n",
        "\n",
        "Aby zainstalować bibliotekę scikit-learn, użyj polecenia poniżej:\n",
        "```\n",
        "!pip install scikit-learn\n",
        "```\n",
        "Aby zaktualizować do najnowszej wersji bibliotekę scikit-learn, użyj polecenia poniżej:\n",
        "```\n",
        "!pip install --upgrade scikit-learn\n",
        "```\n",
        "Kurs stworzony w oparciu o wersję `0.22.1`\n",
        "\n",
        "### Spis treści:\n",
        "1. [Import bibliotek](#a0)\n",
        "2. [Interpretacja graficzna](#a2)\n",
        "3. [Mean Absolute Error - MAE - Średni błąd bezwzględny](#a3)\n",
        "4. [Mean Squared Error - MSE - Błąd średniokwadratowy](#a4)\n",
        "5. [Root Mean Squared Error - RMSE - Pierwiastek błędu średniokwadratowego](#a5)\n",
        "6. [Max Error - Błąd maksymalny](#a6)\n",
        "7. [R2 score - współczynnik determinacji](#a7)\n",
        "\n",
        "\n",
        "\n",
        "    "
      ]
    },
    {
      "cell_type": "markdown",
      "metadata": {
        "id": "1Dc4DhtS7LTD"
      },
      "source": [
        "### <a name='a0'></a>  Import bibliotek"
      ]
    },
    {
      "cell_type": "code",
      "metadata": {
        "id": "qQZ7LNIt7KAY"
      },
      "source": [
        "import numpy as np\n",
        "import pandas as pd\n",
        "import plotly.express as px\n",
        "import plotly.graph_objects as go\n",
        "\n",
        "np.random.seed(42)"
      ],
      "execution_count": 1,
      "outputs": []
    },
    {
      "cell_type": "code",
      "metadata": {
        "id": "GhNVhidb7SG7",
        "outputId": "c331ed51-0a95-42e9-832a-e2aa1691095e",
        "colab": {
          "base_uri": "https://localhost:8080/"
        }
      },
      "source": [
        "y_true = 100 + 20 * np.random.randn(50)\n",
        "y_true"
      ],
      "execution_count": 4,
      "outputs": [
        {
          "output_type": "execute_result",
          "data": {
            "text/plain": [
              "array([ 71.69258516,  91.58709354,  93.14570967,  83.95445462,\n",
              "        96.77428577, 108.08101714, 137.72371802, 103.49155626,\n",
              "       105.15100781,  98.51108168,  61.62457569,  99.46972249,\n",
              "       101.2046042 , 149.26484225,  96.1527807 , 106.03094685,\n",
              "        99.30576461,  76.62643925, 122.85645629, 115.03866065,\n",
              "       115.82063894,  81.8122509 , 128.05588622,  71.96297874,\n",
              "       111.73714188, 143.80911252,  80.1892735 ,  88.67404541,\n",
              "       101.9930273 ,  89.93048692,  68.98673138, 101.3712595 ,\n",
              "        78.75392573, 109.47184861,  81.61151532, 130.9986881 ,\n",
              "        84.33493415,  93.55876968, 116.27034435,  75.38271367,\n",
              "       104.54919869, 126.14285509,  67.85033531, 103.69267717,\n",
              "       105.19765588, 115.63645744,  75.26098578,  73.59086774,\n",
              "       110.43883131, 105.93969346])"
            ]
          },
          "metadata": {},
          "execution_count": 4
        }
      ]
    },
    {
      "cell_type": "code",
      "metadata": {
        "id": "HuAJr61k7cJV",
        "outputId": "38de84c2-de3d-4c1e-e189-d9540622296f",
        "colab": {
          "base_uri": "https://localhost:8080/"
        }
      },
      "source": [
        "y_pred = y_true + 10 * np.random.randn(50)\n",
        "y_pred"
      ],
      "execution_count": 5,
      "outputs": [
        {
          "output_type": "execute_result",
          "data": {
            "text/plain": [
              "array([ 74.19751366,  95.05157564,  86.34546245,  86.27699159,\n",
              "        99.7050105 , 100.93750296, 156.38146314, 108.22988547,\n",
              "        93.23797284, 105.07661777,  51.87775899, 107.34056853,\n",
              "       112.79055999, 141.05801907, 105.786542  , 110.15875612,\n",
              "       107.52636621,  95.59436907, 120.40257513, 107.50129901,\n",
              "       106.92549464,  73.65414805, 127.28486912,  75.37449849,\n",
              "       114.50404987, 152.08094501,  80.31929242, 103.20938618,\n",
              "        99.34645897, 117.13217858,  75.24340486,  92.79968393,\n",
              "        68.04500074, 114.29657277,  79.37688746, 138.13869304,\n",
              "        89.0673104 ,  92.83048055, 107.80240717,  60.23424142,\n",
              "       100.08404917, 134.70684303,  69.99127275,  91.23528938,\n",
              "       106.92946514, 119.48963123,  66.42241142,  75.1281188 ,\n",
              "       111.0209185 ,  94.50999049])"
            ]
          },
          "metadata": {},
          "execution_count": 5
        }
      ]
    },
    {
      "cell_type": "code",
      "metadata": {
        "id": "8V3ah8zL7n2P",
        "outputId": "12257647-c91f-4f6a-8d18-4a0e20030ce0",
        "colab": {
          "base_uri": "https://localhost:8080/",
          "height": 206
        }
      },
      "source": [
        "results = pd.DataFrame({'y_true': y_true, 'y_pred': y_pred})\n",
        "results.head()"
      ],
      "execution_count": 6,
      "outputs": [
        {
          "output_type": "execute_result",
          "data": {
            "text/plain": [
              "      y_true     y_pred\n",
              "0  71.692585  74.197514\n",
              "1  91.587094  95.051576\n",
              "2  93.145710  86.345462\n",
              "3  83.954455  86.276992\n",
              "4  96.774286  99.705010"
            ],
            "text/html": [
              "\n",
              "  <div id=\"df-ee4121f4-4f96-405b-aafc-48ad5550eb42\" class=\"colab-df-container\">\n",
              "    <div>\n",
              "<style scoped>\n",
              "    .dataframe tbody tr th:only-of-type {\n",
              "        vertical-align: middle;\n",
              "    }\n",
              "\n",
              "    .dataframe tbody tr th {\n",
              "        vertical-align: top;\n",
              "    }\n",
              "\n",
              "    .dataframe thead th {\n",
              "        text-align: right;\n",
              "    }\n",
              "</style>\n",
              "<table border=\"1\" class=\"dataframe\">\n",
              "  <thead>\n",
              "    <tr style=\"text-align: right;\">\n",
              "      <th></th>\n",
              "      <th>y_true</th>\n",
              "      <th>y_pred</th>\n",
              "    </tr>\n",
              "  </thead>\n",
              "  <tbody>\n",
              "    <tr>\n",
              "      <th>0</th>\n",
              "      <td>71.692585</td>\n",
              "      <td>74.197514</td>\n",
              "    </tr>\n",
              "    <tr>\n",
              "      <th>1</th>\n",
              "      <td>91.587094</td>\n",
              "      <td>95.051576</td>\n",
              "    </tr>\n",
              "    <tr>\n",
              "      <th>2</th>\n",
              "      <td>93.145710</td>\n",
              "      <td>86.345462</td>\n",
              "    </tr>\n",
              "    <tr>\n",
              "      <th>3</th>\n",
              "      <td>83.954455</td>\n",
              "      <td>86.276992</td>\n",
              "    </tr>\n",
              "    <tr>\n",
              "      <th>4</th>\n",
              "      <td>96.774286</td>\n",
              "      <td>99.705010</td>\n",
              "    </tr>\n",
              "  </tbody>\n",
              "</table>\n",
              "</div>\n",
              "    <div class=\"colab-df-buttons\">\n",
              "\n",
              "  <div class=\"colab-df-container\">\n",
              "    <button class=\"colab-df-convert\" onclick=\"convertToInteractive('df-ee4121f4-4f96-405b-aafc-48ad5550eb42')\"\n",
              "            title=\"Convert this dataframe to an interactive table.\"\n",
              "            style=\"display:none;\">\n",
              "\n",
              "  <svg xmlns=\"http://www.w3.org/2000/svg\" height=\"24px\" viewBox=\"0 -960 960 960\">\n",
              "    <path d=\"M120-120v-720h720v720H120Zm60-500h600v-160H180v160Zm220 220h160v-160H400v160Zm0 220h160v-160H400v160ZM180-400h160v-160H180v160Zm440 0h160v-160H620v160ZM180-180h160v-160H180v160Zm440 0h160v-160H620v160Z\"/>\n",
              "  </svg>\n",
              "    </button>\n",
              "\n",
              "  <style>\n",
              "    .colab-df-container {\n",
              "      display:flex;\n",
              "      gap: 12px;\n",
              "    }\n",
              "\n",
              "    .colab-df-convert {\n",
              "      background-color: #E8F0FE;\n",
              "      border: none;\n",
              "      border-radius: 50%;\n",
              "      cursor: pointer;\n",
              "      display: none;\n",
              "      fill: #1967D2;\n",
              "      height: 32px;\n",
              "      padding: 0 0 0 0;\n",
              "      width: 32px;\n",
              "    }\n",
              "\n",
              "    .colab-df-convert:hover {\n",
              "      background-color: #E2EBFA;\n",
              "      box-shadow: 0px 1px 2px rgba(60, 64, 67, 0.3), 0px 1px 3px 1px rgba(60, 64, 67, 0.15);\n",
              "      fill: #174EA6;\n",
              "    }\n",
              "\n",
              "    .colab-df-buttons div {\n",
              "      margin-bottom: 4px;\n",
              "    }\n",
              "\n",
              "    [theme=dark] .colab-df-convert {\n",
              "      background-color: #3B4455;\n",
              "      fill: #D2E3FC;\n",
              "    }\n",
              "\n",
              "    [theme=dark] .colab-df-convert:hover {\n",
              "      background-color: #434B5C;\n",
              "      box-shadow: 0px 1px 3px 1px rgba(0, 0, 0, 0.15);\n",
              "      filter: drop-shadow(0px 1px 2px rgba(0, 0, 0, 0.3));\n",
              "      fill: #FFFFFF;\n",
              "    }\n",
              "  </style>\n",
              "\n",
              "    <script>\n",
              "      const buttonEl =\n",
              "        document.querySelector('#df-ee4121f4-4f96-405b-aafc-48ad5550eb42 button.colab-df-convert');\n",
              "      buttonEl.style.display =\n",
              "        google.colab.kernel.accessAllowed ? 'block' : 'none';\n",
              "\n",
              "      async function convertToInteractive(key) {\n",
              "        const element = document.querySelector('#df-ee4121f4-4f96-405b-aafc-48ad5550eb42');\n",
              "        const dataTable =\n",
              "          await google.colab.kernel.invokeFunction('convertToInteractive',\n",
              "                                                    [key], {});\n",
              "        if (!dataTable) return;\n",
              "\n",
              "        const docLinkHtml = 'Like what you see? Visit the ' +\n",
              "          '<a target=\"_blank\" href=https://colab.research.google.com/notebooks/data_table.ipynb>data table notebook</a>'\n",
              "          + ' to learn more about interactive tables.';\n",
              "        element.innerHTML = '';\n",
              "        dataTable['output_type'] = 'display_data';\n",
              "        await google.colab.output.renderOutput(dataTable, element);\n",
              "        const docLink = document.createElement('div');\n",
              "        docLink.innerHTML = docLinkHtml;\n",
              "        element.appendChild(docLink);\n",
              "      }\n",
              "    </script>\n",
              "  </div>\n",
              "\n",
              "\n",
              "<div id=\"df-23bfbae9-b8ce-449b-9f0d-0386779d11ff\">\n",
              "  <button class=\"colab-df-quickchart\" onclick=\"quickchart('df-23bfbae9-b8ce-449b-9f0d-0386779d11ff')\"\n",
              "            title=\"Suggest charts\"\n",
              "            style=\"display:none;\">\n",
              "\n",
              "<svg xmlns=\"http://www.w3.org/2000/svg\" height=\"24px\"viewBox=\"0 0 24 24\"\n",
              "     width=\"24px\">\n",
              "    <g>\n",
              "        <path d=\"M19 3H5c-1.1 0-2 .9-2 2v14c0 1.1.9 2 2 2h14c1.1 0 2-.9 2-2V5c0-1.1-.9-2-2-2zM9 17H7v-7h2v7zm4 0h-2V7h2v10zm4 0h-2v-4h2v4z\"/>\n",
              "    </g>\n",
              "</svg>\n",
              "  </button>\n",
              "\n",
              "<style>\n",
              "  .colab-df-quickchart {\n",
              "      --bg-color: #E8F0FE;\n",
              "      --fill-color: #1967D2;\n",
              "      --hover-bg-color: #E2EBFA;\n",
              "      --hover-fill-color: #174EA6;\n",
              "      --disabled-fill-color: #AAA;\n",
              "      --disabled-bg-color: #DDD;\n",
              "  }\n",
              "\n",
              "  [theme=dark] .colab-df-quickchart {\n",
              "      --bg-color: #3B4455;\n",
              "      --fill-color: #D2E3FC;\n",
              "      --hover-bg-color: #434B5C;\n",
              "      --hover-fill-color: #FFFFFF;\n",
              "      --disabled-bg-color: #3B4455;\n",
              "      --disabled-fill-color: #666;\n",
              "  }\n",
              "\n",
              "  .colab-df-quickchart {\n",
              "    background-color: var(--bg-color);\n",
              "    border: none;\n",
              "    border-radius: 50%;\n",
              "    cursor: pointer;\n",
              "    display: none;\n",
              "    fill: var(--fill-color);\n",
              "    height: 32px;\n",
              "    padding: 0;\n",
              "    width: 32px;\n",
              "  }\n",
              "\n",
              "  .colab-df-quickchart:hover {\n",
              "    background-color: var(--hover-bg-color);\n",
              "    box-shadow: 0 1px 2px rgba(60, 64, 67, 0.3), 0 1px 3px 1px rgba(60, 64, 67, 0.15);\n",
              "    fill: var(--button-hover-fill-color);\n",
              "  }\n",
              "\n",
              "  .colab-df-quickchart-complete:disabled,\n",
              "  .colab-df-quickchart-complete:disabled:hover {\n",
              "    background-color: var(--disabled-bg-color);\n",
              "    fill: var(--disabled-fill-color);\n",
              "    box-shadow: none;\n",
              "  }\n",
              "\n",
              "  .colab-df-spinner {\n",
              "    border: 2px solid var(--fill-color);\n",
              "    border-color: transparent;\n",
              "    border-bottom-color: var(--fill-color);\n",
              "    animation:\n",
              "      spin 1s steps(1) infinite;\n",
              "  }\n",
              "\n",
              "  @keyframes spin {\n",
              "    0% {\n",
              "      border-color: transparent;\n",
              "      border-bottom-color: var(--fill-color);\n",
              "      border-left-color: var(--fill-color);\n",
              "    }\n",
              "    20% {\n",
              "      border-color: transparent;\n",
              "      border-left-color: var(--fill-color);\n",
              "      border-top-color: var(--fill-color);\n",
              "    }\n",
              "    30% {\n",
              "      border-color: transparent;\n",
              "      border-left-color: var(--fill-color);\n",
              "      border-top-color: var(--fill-color);\n",
              "      border-right-color: var(--fill-color);\n",
              "    }\n",
              "    40% {\n",
              "      border-color: transparent;\n",
              "      border-right-color: var(--fill-color);\n",
              "      border-top-color: var(--fill-color);\n",
              "    }\n",
              "    60% {\n",
              "      border-color: transparent;\n",
              "      border-right-color: var(--fill-color);\n",
              "    }\n",
              "    80% {\n",
              "      border-color: transparent;\n",
              "      border-right-color: var(--fill-color);\n",
              "      border-bottom-color: var(--fill-color);\n",
              "    }\n",
              "    90% {\n",
              "      border-color: transparent;\n",
              "      border-bottom-color: var(--fill-color);\n",
              "    }\n",
              "  }\n",
              "</style>\n",
              "\n",
              "  <script>\n",
              "    async function quickchart(key) {\n",
              "      const quickchartButtonEl =\n",
              "        document.querySelector('#' + key + ' button');\n",
              "      quickchartButtonEl.disabled = true;  // To prevent multiple clicks.\n",
              "      quickchartButtonEl.classList.add('colab-df-spinner');\n",
              "      try {\n",
              "        const charts = await google.colab.kernel.invokeFunction(\n",
              "            'suggestCharts', [key], {});\n",
              "      } catch (error) {\n",
              "        console.error('Error during call to suggestCharts:', error);\n",
              "      }\n",
              "      quickchartButtonEl.classList.remove('colab-df-spinner');\n",
              "      quickchartButtonEl.classList.add('colab-df-quickchart-complete');\n",
              "    }\n",
              "    (() => {\n",
              "      let quickchartButtonEl =\n",
              "        document.querySelector('#df-23bfbae9-b8ce-449b-9f0d-0386779d11ff button');\n",
              "      quickchartButtonEl.style.display =\n",
              "        google.colab.kernel.accessAllowed ? 'block' : 'none';\n",
              "    })();\n",
              "  </script>\n",
              "</div>\n",
              "    </div>\n",
              "  </div>\n"
            ],
            "application/vnd.google.colaboratory.intrinsic+json": {
              "type": "dataframe",
              "variable_name": "results",
              "summary": "{\n  \"name\": \"results\",\n  \"rows\": 50,\n  \"fields\": [\n    {\n      \"column\": \"y_true\",\n      \"properties\": {\n        \"dtype\": \"number\",\n        \"std\": 20.30827172421998,\n        \"min\": 61.62457569401917,\n        \"max\": 149.26484224970574,\n        \"num_unique_values\": 50,\n        \"samples\": [\n          149.26484224970574,\n          75.3827136713209,\n          68.98673137867735\n        ],\n        \"semantic_type\": \"\",\n        \"description\": \"\"\n      }\n    },\n    {\n      \"column\": \"y_pred\",\n      \"properties\": {\n        \"dtype\": \"number\",\n        \"std\": 22.626606840942426,\n        \"min\": 51.87775899174596,\n        \"max\": 156.38146313565815,\n        \"num_unique_values\": 50,\n        \"samples\": [\n          141.05801906618862,\n          60.234241424462255,\n          75.24340485632742\n        ],\n        \"semantic_type\": \"\",\n        \"description\": \"\"\n      }\n    }\n  ]\n}"
            }
          },
          "metadata": {},
          "execution_count": 6
        }
      ]
    },
    {
      "cell_type": "code",
      "metadata": {
        "id": "SPMt-m1e78VI",
        "outputId": "f585dbbd-b04e-4dc4-a54d-0b87cdd9de23",
        "colab": {
          "base_uri": "https://localhost:8080/",
          "height": 206
        }
      },
      "source": [
        "results['error'] = results['y_true'] - results['y_pred']\n",
        "results['error_squared'] = results['error'] ** 2\n",
        "results.head()"
      ],
      "execution_count": 8,
      "outputs": [
        {
          "output_type": "execute_result",
          "data": {
            "text/plain": [
              "      y_true     y_pred     error  error_squared\n",
              "0  71.692585  74.197514 -2.504929       6.274667\n",
              "1  91.587094  95.051576 -3.464482      12.002636\n",
              "2  93.145710  86.345462  6.800247      46.243362\n",
              "3  83.954455  86.276992 -2.322537       5.394178\n",
              "4  96.774286  99.705010 -2.930725       8.589147"
            ],
            "text/html": [
              "\n",
              "  <div id=\"df-7fe49433-6f8f-473d-a158-1a385e1b8acf\" class=\"colab-df-container\">\n",
              "    <div>\n",
              "<style scoped>\n",
              "    .dataframe tbody tr th:only-of-type {\n",
              "        vertical-align: middle;\n",
              "    }\n",
              "\n",
              "    .dataframe tbody tr th {\n",
              "        vertical-align: top;\n",
              "    }\n",
              "\n",
              "    .dataframe thead th {\n",
              "        text-align: right;\n",
              "    }\n",
              "</style>\n",
              "<table border=\"1\" class=\"dataframe\">\n",
              "  <thead>\n",
              "    <tr style=\"text-align: right;\">\n",
              "      <th></th>\n",
              "      <th>y_true</th>\n",
              "      <th>y_pred</th>\n",
              "      <th>error</th>\n",
              "      <th>error_squared</th>\n",
              "    </tr>\n",
              "  </thead>\n",
              "  <tbody>\n",
              "    <tr>\n",
              "      <th>0</th>\n",
              "      <td>71.692585</td>\n",
              "      <td>74.197514</td>\n",
              "      <td>-2.504929</td>\n",
              "      <td>6.274667</td>\n",
              "    </tr>\n",
              "    <tr>\n",
              "      <th>1</th>\n",
              "      <td>91.587094</td>\n",
              "      <td>95.051576</td>\n",
              "      <td>-3.464482</td>\n",
              "      <td>12.002636</td>\n",
              "    </tr>\n",
              "    <tr>\n",
              "      <th>2</th>\n",
              "      <td>93.145710</td>\n",
              "      <td>86.345462</td>\n",
              "      <td>6.800247</td>\n",
              "      <td>46.243362</td>\n",
              "    </tr>\n",
              "    <tr>\n",
              "      <th>3</th>\n",
              "      <td>83.954455</td>\n",
              "      <td>86.276992</td>\n",
              "      <td>-2.322537</td>\n",
              "      <td>5.394178</td>\n",
              "    </tr>\n",
              "    <tr>\n",
              "      <th>4</th>\n",
              "      <td>96.774286</td>\n",
              "      <td>99.705010</td>\n",
              "      <td>-2.930725</td>\n",
              "      <td>8.589147</td>\n",
              "    </tr>\n",
              "  </tbody>\n",
              "</table>\n",
              "</div>\n",
              "    <div class=\"colab-df-buttons\">\n",
              "\n",
              "  <div class=\"colab-df-container\">\n",
              "    <button class=\"colab-df-convert\" onclick=\"convertToInteractive('df-7fe49433-6f8f-473d-a158-1a385e1b8acf')\"\n",
              "            title=\"Convert this dataframe to an interactive table.\"\n",
              "            style=\"display:none;\">\n",
              "\n",
              "  <svg xmlns=\"http://www.w3.org/2000/svg\" height=\"24px\" viewBox=\"0 -960 960 960\">\n",
              "    <path d=\"M120-120v-720h720v720H120Zm60-500h600v-160H180v160Zm220 220h160v-160H400v160Zm0 220h160v-160H400v160ZM180-400h160v-160H180v160Zm440 0h160v-160H620v160ZM180-180h160v-160H180v160Zm440 0h160v-160H620v160Z\"/>\n",
              "  </svg>\n",
              "    </button>\n",
              "\n",
              "  <style>\n",
              "    .colab-df-container {\n",
              "      display:flex;\n",
              "      gap: 12px;\n",
              "    }\n",
              "\n",
              "    .colab-df-convert {\n",
              "      background-color: #E8F0FE;\n",
              "      border: none;\n",
              "      border-radius: 50%;\n",
              "      cursor: pointer;\n",
              "      display: none;\n",
              "      fill: #1967D2;\n",
              "      height: 32px;\n",
              "      padding: 0 0 0 0;\n",
              "      width: 32px;\n",
              "    }\n",
              "\n",
              "    .colab-df-convert:hover {\n",
              "      background-color: #E2EBFA;\n",
              "      box-shadow: 0px 1px 2px rgba(60, 64, 67, 0.3), 0px 1px 3px 1px rgba(60, 64, 67, 0.15);\n",
              "      fill: #174EA6;\n",
              "    }\n",
              "\n",
              "    .colab-df-buttons div {\n",
              "      margin-bottom: 4px;\n",
              "    }\n",
              "\n",
              "    [theme=dark] .colab-df-convert {\n",
              "      background-color: #3B4455;\n",
              "      fill: #D2E3FC;\n",
              "    }\n",
              "\n",
              "    [theme=dark] .colab-df-convert:hover {\n",
              "      background-color: #434B5C;\n",
              "      box-shadow: 0px 1px 3px 1px rgba(0, 0, 0, 0.15);\n",
              "      filter: drop-shadow(0px 1px 2px rgba(0, 0, 0, 0.3));\n",
              "      fill: #FFFFFF;\n",
              "    }\n",
              "  </style>\n",
              "\n",
              "    <script>\n",
              "      const buttonEl =\n",
              "        document.querySelector('#df-7fe49433-6f8f-473d-a158-1a385e1b8acf button.colab-df-convert');\n",
              "      buttonEl.style.display =\n",
              "        google.colab.kernel.accessAllowed ? 'block' : 'none';\n",
              "\n",
              "      async function convertToInteractive(key) {\n",
              "        const element = document.querySelector('#df-7fe49433-6f8f-473d-a158-1a385e1b8acf');\n",
              "        const dataTable =\n",
              "          await google.colab.kernel.invokeFunction('convertToInteractive',\n",
              "                                                    [key], {});\n",
              "        if (!dataTable) return;\n",
              "\n",
              "        const docLinkHtml = 'Like what you see? Visit the ' +\n",
              "          '<a target=\"_blank\" href=https://colab.research.google.com/notebooks/data_table.ipynb>data table notebook</a>'\n",
              "          + ' to learn more about interactive tables.';\n",
              "        element.innerHTML = '';\n",
              "        dataTable['output_type'] = 'display_data';\n",
              "        await google.colab.output.renderOutput(dataTable, element);\n",
              "        const docLink = document.createElement('div');\n",
              "        docLink.innerHTML = docLinkHtml;\n",
              "        element.appendChild(docLink);\n",
              "      }\n",
              "    </script>\n",
              "  </div>\n",
              "\n",
              "\n",
              "<div id=\"df-061c71f5-6cf7-4f82-9b84-442aababe741\">\n",
              "  <button class=\"colab-df-quickchart\" onclick=\"quickchart('df-061c71f5-6cf7-4f82-9b84-442aababe741')\"\n",
              "            title=\"Suggest charts\"\n",
              "            style=\"display:none;\">\n",
              "\n",
              "<svg xmlns=\"http://www.w3.org/2000/svg\" height=\"24px\"viewBox=\"0 0 24 24\"\n",
              "     width=\"24px\">\n",
              "    <g>\n",
              "        <path d=\"M19 3H5c-1.1 0-2 .9-2 2v14c0 1.1.9 2 2 2h14c1.1 0 2-.9 2-2V5c0-1.1-.9-2-2-2zM9 17H7v-7h2v7zm4 0h-2V7h2v10zm4 0h-2v-4h2v4z\"/>\n",
              "    </g>\n",
              "</svg>\n",
              "  </button>\n",
              "\n",
              "<style>\n",
              "  .colab-df-quickchart {\n",
              "      --bg-color: #E8F0FE;\n",
              "      --fill-color: #1967D2;\n",
              "      --hover-bg-color: #E2EBFA;\n",
              "      --hover-fill-color: #174EA6;\n",
              "      --disabled-fill-color: #AAA;\n",
              "      --disabled-bg-color: #DDD;\n",
              "  }\n",
              "\n",
              "  [theme=dark] .colab-df-quickchart {\n",
              "      --bg-color: #3B4455;\n",
              "      --fill-color: #D2E3FC;\n",
              "      --hover-bg-color: #434B5C;\n",
              "      --hover-fill-color: #FFFFFF;\n",
              "      --disabled-bg-color: #3B4455;\n",
              "      --disabled-fill-color: #666;\n",
              "  }\n",
              "\n",
              "  .colab-df-quickchart {\n",
              "    background-color: var(--bg-color);\n",
              "    border: none;\n",
              "    border-radius: 50%;\n",
              "    cursor: pointer;\n",
              "    display: none;\n",
              "    fill: var(--fill-color);\n",
              "    height: 32px;\n",
              "    padding: 0;\n",
              "    width: 32px;\n",
              "  }\n",
              "\n",
              "  .colab-df-quickchart:hover {\n",
              "    background-color: var(--hover-bg-color);\n",
              "    box-shadow: 0 1px 2px rgba(60, 64, 67, 0.3), 0 1px 3px 1px rgba(60, 64, 67, 0.15);\n",
              "    fill: var(--button-hover-fill-color);\n",
              "  }\n",
              "\n",
              "  .colab-df-quickchart-complete:disabled,\n",
              "  .colab-df-quickchart-complete:disabled:hover {\n",
              "    background-color: var(--disabled-bg-color);\n",
              "    fill: var(--disabled-fill-color);\n",
              "    box-shadow: none;\n",
              "  }\n",
              "\n",
              "  .colab-df-spinner {\n",
              "    border: 2px solid var(--fill-color);\n",
              "    border-color: transparent;\n",
              "    border-bottom-color: var(--fill-color);\n",
              "    animation:\n",
              "      spin 1s steps(1) infinite;\n",
              "  }\n",
              "\n",
              "  @keyframes spin {\n",
              "    0% {\n",
              "      border-color: transparent;\n",
              "      border-bottom-color: var(--fill-color);\n",
              "      border-left-color: var(--fill-color);\n",
              "    }\n",
              "    20% {\n",
              "      border-color: transparent;\n",
              "      border-left-color: var(--fill-color);\n",
              "      border-top-color: var(--fill-color);\n",
              "    }\n",
              "    30% {\n",
              "      border-color: transparent;\n",
              "      border-left-color: var(--fill-color);\n",
              "      border-top-color: var(--fill-color);\n",
              "      border-right-color: var(--fill-color);\n",
              "    }\n",
              "    40% {\n",
              "      border-color: transparent;\n",
              "      border-right-color: var(--fill-color);\n",
              "      border-top-color: var(--fill-color);\n",
              "    }\n",
              "    60% {\n",
              "      border-color: transparent;\n",
              "      border-right-color: var(--fill-color);\n",
              "    }\n",
              "    80% {\n",
              "      border-color: transparent;\n",
              "      border-right-color: var(--fill-color);\n",
              "      border-bottom-color: var(--fill-color);\n",
              "    }\n",
              "    90% {\n",
              "      border-color: transparent;\n",
              "      border-bottom-color: var(--fill-color);\n",
              "    }\n",
              "  }\n",
              "</style>\n",
              "\n",
              "  <script>\n",
              "    async function quickchart(key) {\n",
              "      const quickchartButtonEl =\n",
              "        document.querySelector('#' + key + ' button');\n",
              "      quickchartButtonEl.disabled = true;  // To prevent multiple clicks.\n",
              "      quickchartButtonEl.classList.add('colab-df-spinner');\n",
              "      try {\n",
              "        const charts = await google.colab.kernel.invokeFunction(\n",
              "            'suggestCharts', [key], {});\n",
              "      } catch (error) {\n",
              "        console.error('Error during call to suggestCharts:', error);\n",
              "      }\n",
              "      quickchartButtonEl.classList.remove('colab-df-spinner');\n",
              "      quickchartButtonEl.classList.add('colab-df-quickchart-complete');\n",
              "    }\n",
              "    (() => {\n",
              "      let quickchartButtonEl =\n",
              "        document.querySelector('#df-061c71f5-6cf7-4f82-9b84-442aababe741 button');\n",
              "      quickchartButtonEl.style.display =\n",
              "        google.colab.kernel.accessAllowed ? 'block' : 'none';\n",
              "    })();\n",
              "  </script>\n",
              "</div>\n",
              "    </div>\n",
              "  </div>\n"
            ],
            "application/vnd.google.colaboratory.intrinsic+json": {
              "type": "dataframe",
              "variable_name": "results",
              "summary": "{\n  \"name\": \"results\",\n  \"rows\": 50,\n  \"fields\": [\n    {\n      \"column\": \"y_true\",\n      \"properties\": {\n        \"dtype\": \"number\",\n        \"std\": 20.30827172421998,\n        \"min\": 61.62457569401917,\n        \"max\": 149.26484224970574,\n        \"num_unique_values\": 50,\n        \"samples\": [\n          149.26484224970574,\n          75.3827136713209,\n          68.98673137867735\n        ],\n        \"semantic_type\": \"\",\n        \"description\": \"\"\n      }\n    },\n    {\n      \"column\": \"y_pred\",\n      \"properties\": {\n        \"dtype\": \"number\",\n        \"std\": 22.626606840942426,\n        \"min\": 51.87775899174596,\n        \"max\": 156.38146313565815,\n        \"num_unique_values\": 50,\n        \"samples\": [\n          141.05801906618862,\n          60.234241424462255,\n          75.24340485632742\n        ],\n        \"semantic_type\": \"\",\n        \"description\": \"\"\n      }\n    },\n    {\n      \"column\": \"error\",\n      \"properties\": {\n        \"dtype\": \"number\",\n        \"std\": 8.937131104646461,\n        \"min\": -27.201691665896192,\n        \"max\": 15.148472246858645,\n        \"num_unique_values\": 50,\n        \"samples\": [\n          8.206823183517116,\n          15.148472246858645,\n          -6.256673477650068\n        ],\n        \"semantic_type\": \"\",\n        \"description\": \"\"\n      }\n    },\n    {\n      \"column\": \"error_squared\",\n      \"properties\": {\n        \"dtype\": \"number\",\n        \"std\": 124.6231724549436,\n        \"min\": 0.016904919240478954,\n        \"max\": 739.9320294864864,\n        \"num_unique_values\": 50,\n        \"samples\": [\n          67.35194676551401,\n          229.4762114138466,\n          39.145963005929794\n        ],\n        \"semantic_type\": \"\",\n        \"description\": \"\"\n      }\n    }\n  ]\n}"
            }
          },
          "metadata": {},
          "execution_count": 8
        }
      ]
    },
    {
      "cell_type": "code",
      "metadata": {
        "id": "Py9mrFUMaB7W",
        "outputId": "059b76eb-ab0c-4861-b074-5e2c8b310f9a",
        "colab": {
          "base_uri": "https://localhost:8080/"
        }
      },
      "source": [
        "print(f\"MAE - mean absolute error: {results['error'].abs().sum() / len(results):.4f}\")\n",
        "\n",
        "print(f\"MSE - mean squared error: {results['error_squared'].sum() / len(results):.4f}\")\n",
        "\n",
        "print(f\"RMSE - root mean squared error: {np.sqrt(results['error_squared'].sum() / len(results)):.4f}\")"
      ],
      "execution_count": 9,
      "outputs": [
        {
          "output_type": "stream",
          "name": "stdout",
          "text": [
            "MAE - mean absolute error: 7.1319\n",
            "MSE - mean squared error: 78.9787\n",
            "RMSE - root mean squared error: 8.8870\n"
          ]
        }
      ]
    },
    {
      "cell_type": "markdown",
      "metadata": {
        "id": "JkXYHzBlCrXB"
      },
      "source": [
        "\n",
        "### <a name='a2'></a> Interpretacja graficzna"
      ]
    },
    {
      "cell_type": "code",
      "source": [
        "results[['y_true', 'y_pred']].min().min()"
      ],
      "metadata": {
        "id": "6O82SB2ZIA0a",
        "outputId": "bb7fc74f-6dd9-48ab-e3db-528c4a56d0c1",
        "colab": {
          "base_uri": "https://localhost:8080/"
        }
      },
      "execution_count": 14,
      "outputs": [
        {
          "output_type": "execute_result",
          "data": {
            "text/plain": [
              "51.87775899174596"
            ]
          },
          "metadata": {},
          "execution_count": 14
        }
      ]
    },
    {
      "cell_type": "code",
      "metadata": {
        "id": "aFdc5zl6_bih",
        "outputId": "361773da-4abe-436d-e990-8574fa540206",
        "colab": {
          "base_uri": "https://localhost:8080/",
          "height": 542
        }
      },
      "source": [
        "def plot_regression_results(y_true, y_pred):\n",
        "\n",
        "    results = pd.DataFrame({'y_true': y_true, 'y_pred': y_pred})\n",
        "    min = results[['y_true', 'y_pred']].min().min()\n",
        "    max = results[['y_true', 'y_pred']].max().max()\n",
        "\n",
        "    fig = go.Figure(data=[go.Scatter(x=results['y_true'], y=results['y_pred'], mode='markers'),\n",
        "                    go.Scatter(x=[min, max], y=[min, max])],\n",
        "                    layout=go.Layout(showlegend=False, width=800,\n",
        "                                     xaxis_title='y_true',\n",
        "                                     yaxis_title='y_pred',\n",
        "                                     title='Regresja: y_true vs. y_pred'))\n",
        "    fig.show()\n",
        "\n",
        "plot_regression_results(y_true, y_pred)"
      ],
      "execution_count": 13,
      "outputs": [
        {
          "output_type": "display_data",
          "data": {
            "text/html": [
              "<html>\n",
              "<head><meta charset=\"utf-8\" /></head>\n",
              "<body>\n",
              "    <div>            <script src=\"https://cdnjs.cloudflare.com/ajax/libs/mathjax/2.7.5/MathJax.js?config=TeX-AMS-MML_SVG\"></script><script type=\"text/javascript\">if (window.MathJax && window.MathJax.Hub && window.MathJax.Hub.Config) {window.MathJax.Hub.Config({SVG: {font: \"STIX-Web\"}});}</script>                <script type=\"text/javascript\">window.PlotlyConfig = {MathJaxConfig: 'local'};</script>\n",
              "        <script charset=\"utf-8\" src=\"https://cdn.plot.ly/plotly-2.24.1.min.js\"></script>                <div id=\"39101813-fc6f-4184-8662-00a994d2faf3\" class=\"plotly-graph-div\" style=\"height:525px; width:800px;\"></div>            <script type=\"text/javascript\">                                    window.PLOTLYENV=window.PLOTLYENV || {};                                    if (document.getElementById(\"39101813-fc6f-4184-8662-00a994d2faf3\")) {                    Plotly.newPlot(                        \"39101813-fc6f-4184-8662-00a994d2faf3\",                        [{\"mode\":\"markers\",\"x\":[71.69258515899172,91.58709354469282,93.14570966946461,83.95445461556761,96.77428576667981,108.08101713629077,137.7237180242106,103.49155625663678,105.15100781445528,98.51108168467665,61.62457569401917,99.46972249101566,101.20460419882053,149.26484224970574,96.15278070437755,106.03094684667225,99.30576460589513,76.62643924760935,122.85645629030041,115.03866065373549,115.82063894086093,81.81225090410521,128.05588621872198,71.96297874415438,111.73714187600541,143.80911251619958,80.18927349738624,88.67404540794456,101.99302730175282,89.93048691767602,68.98673137867735,101.37125949612054,78.7539257254779,109.47184861270364,81.61151531532394,130.9986881003508,84.33493415327526,93.55876967588648,116.27034434739339,75.3827136713209,104.54919869208258,126.14285508564856,67.85033530877544,103.69267717064608,105.19765588496847,115.6364574355462,75.26098578243835,73.59086773831447,110.43883131233795,105.93969346466372],\"y\":[74.19751366245049,95.05157563966257,86.3454624536797,86.27699158717765,99.70501049966663,100.93750295602709,156.38146313565815,108.22988546575466,93.2379728424288,105.07661777101495,51.87775899174596,107.34056852844017,112.79055998889457,141.05801906618862,105.78654199682077,110.15875611603724,107.52636620584003,95.59436907414883,120.40257513027171,107.5012990101606,106.92549464460569,73.65414805445083,127.28486912458094,75.37449849232082,114.5040498693056,152.0809450065598,80.31929241616531,103.20938617951774,99.34645896937326,117.13217858357221,75.24340485632742,92.79968393195772,68.04500074486677,114.2965727651355,79.37688746206544,138.13869304127172,89.06731039901071,92.83048054931776,107.80240716670934,60.234241424462255,100.08404917141237,134.7068430288833,69.99127275007748,91.2352893835262,106.92946514348029,119.48963123283457,66.42241142042703,75.12811879776974,111.02091849679795,94.50999048635748],\"type\":\"scatter\"},{\"x\":[51.87775899174596,156.38146313565815],\"y\":[51.87775899174596,156.38146313565815],\"type\":\"scatter\"}],                        {\"showlegend\":false,\"title\":{\"text\":\"Regresja: y_true vs. y_pred\"},\"width\":800,\"xaxis\":{\"title\":{\"text\":\"y_true\"}},\"yaxis\":{\"title\":{\"text\":\"y_pred\"}},\"template\":{\"data\":{\"histogram2dcontour\":[{\"type\":\"histogram2dcontour\",\"colorbar\":{\"outlinewidth\":0,\"ticks\":\"\"},\"colorscale\":[[0.0,\"#0d0887\"],[0.1111111111111111,\"#46039f\"],[0.2222222222222222,\"#7201a8\"],[0.3333333333333333,\"#9c179e\"],[0.4444444444444444,\"#bd3786\"],[0.5555555555555556,\"#d8576b\"],[0.6666666666666666,\"#ed7953\"],[0.7777777777777778,\"#fb9f3a\"],[0.8888888888888888,\"#fdca26\"],[1.0,\"#f0f921\"]]}],\"choropleth\":[{\"type\":\"choropleth\",\"colorbar\":{\"outlinewidth\":0,\"ticks\":\"\"}}],\"histogram2d\":[{\"type\":\"histogram2d\",\"colorbar\":{\"outlinewidth\":0,\"ticks\":\"\"},\"colorscale\":[[0.0,\"#0d0887\"],[0.1111111111111111,\"#46039f\"],[0.2222222222222222,\"#7201a8\"],[0.3333333333333333,\"#9c179e\"],[0.4444444444444444,\"#bd3786\"],[0.5555555555555556,\"#d8576b\"],[0.6666666666666666,\"#ed7953\"],[0.7777777777777778,\"#fb9f3a\"],[0.8888888888888888,\"#fdca26\"],[1.0,\"#f0f921\"]]}],\"heatmap\":[{\"type\":\"heatmap\",\"colorbar\":{\"outlinewidth\":0,\"ticks\":\"\"},\"colorscale\":[[0.0,\"#0d0887\"],[0.1111111111111111,\"#46039f\"],[0.2222222222222222,\"#7201a8\"],[0.3333333333333333,\"#9c179e\"],[0.4444444444444444,\"#bd3786\"],[0.5555555555555556,\"#d8576b\"],[0.6666666666666666,\"#ed7953\"],[0.7777777777777778,\"#fb9f3a\"],[0.8888888888888888,\"#fdca26\"],[1.0,\"#f0f921\"]]}],\"heatmapgl\":[{\"type\":\"heatmapgl\",\"colorbar\":{\"outlinewidth\":0,\"ticks\":\"\"},\"colorscale\":[[0.0,\"#0d0887\"],[0.1111111111111111,\"#46039f\"],[0.2222222222222222,\"#7201a8\"],[0.3333333333333333,\"#9c179e\"],[0.4444444444444444,\"#bd3786\"],[0.5555555555555556,\"#d8576b\"],[0.6666666666666666,\"#ed7953\"],[0.7777777777777778,\"#fb9f3a\"],[0.8888888888888888,\"#fdca26\"],[1.0,\"#f0f921\"]]}],\"contourcarpet\":[{\"type\":\"contourcarpet\",\"colorbar\":{\"outlinewidth\":0,\"ticks\":\"\"}}],\"contour\":[{\"type\":\"contour\",\"colorbar\":{\"outlinewidth\":0,\"ticks\":\"\"},\"colorscale\":[[0.0,\"#0d0887\"],[0.1111111111111111,\"#46039f\"],[0.2222222222222222,\"#7201a8\"],[0.3333333333333333,\"#9c179e\"],[0.4444444444444444,\"#bd3786\"],[0.5555555555555556,\"#d8576b\"],[0.6666666666666666,\"#ed7953\"],[0.7777777777777778,\"#fb9f3a\"],[0.8888888888888888,\"#fdca26\"],[1.0,\"#f0f921\"]]}],\"surface\":[{\"type\":\"surface\",\"colorbar\":{\"outlinewidth\":0,\"ticks\":\"\"},\"colorscale\":[[0.0,\"#0d0887\"],[0.1111111111111111,\"#46039f\"],[0.2222222222222222,\"#7201a8\"],[0.3333333333333333,\"#9c179e\"],[0.4444444444444444,\"#bd3786\"],[0.5555555555555556,\"#d8576b\"],[0.6666666666666666,\"#ed7953\"],[0.7777777777777778,\"#fb9f3a\"],[0.8888888888888888,\"#fdca26\"],[1.0,\"#f0f921\"]]}],\"mesh3d\":[{\"type\":\"mesh3d\",\"colorbar\":{\"outlinewidth\":0,\"ticks\":\"\"}}],\"scatter\":[{\"fillpattern\":{\"fillmode\":\"overlay\",\"size\":10,\"solidity\":0.2},\"type\":\"scatter\"}],\"parcoords\":[{\"type\":\"parcoords\",\"line\":{\"colorbar\":{\"outlinewidth\":0,\"ticks\":\"\"}}}],\"scatterpolargl\":[{\"type\":\"scatterpolargl\",\"marker\":{\"colorbar\":{\"outlinewidth\":0,\"ticks\":\"\"}}}],\"bar\":[{\"error_x\":{\"color\":\"#2a3f5f\"},\"error_y\":{\"color\":\"#2a3f5f\"},\"marker\":{\"line\":{\"color\":\"#E5ECF6\",\"width\":0.5},\"pattern\":{\"fillmode\":\"overlay\",\"size\":10,\"solidity\":0.2}},\"type\":\"bar\"}],\"scattergeo\":[{\"type\":\"scattergeo\",\"marker\":{\"colorbar\":{\"outlinewidth\":0,\"ticks\":\"\"}}}],\"scatterpolar\":[{\"type\":\"scatterpolar\",\"marker\":{\"colorbar\":{\"outlinewidth\":0,\"ticks\":\"\"}}}],\"histogram\":[{\"marker\":{\"pattern\":{\"fillmode\":\"overlay\",\"size\":10,\"solidity\":0.2}},\"type\":\"histogram\"}],\"scattergl\":[{\"type\":\"scattergl\",\"marker\":{\"colorbar\":{\"outlinewidth\":0,\"ticks\":\"\"}}}],\"scatter3d\":[{\"type\":\"scatter3d\",\"line\":{\"colorbar\":{\"outlinewidth\":0,\"ticks\":\"\"}},\"marker\":{\"colorbar\":{\"outlinewidth\":0,\"ticks\":\"\"}}}],\"scattermapbox\":[{\"type\":\"scattermapbox\",\"marker\":{\"colorbar\":{\"outlinewidth\":0,\"ticks\":\"\"}}}],\"scatterternary\":[{\"type\":\"scatterternary\",\"marker\":{\"colorbar\":{\"outlinewidth\":0,\"ticks\":\"\"}}}],\"scattercarpet\":[{\"type\":\"scattercarpet\",\"marker\":{\"colorbar\":{\"outlinewidth\":0,\"ticks\":\"\"}}}],\"carpet\":[{\"aaxis\":{\"endlinecolor\":\"#2a3f5f\",\"gridcolor\":\"white\",\"linecolor\":\"white\",\"minorgridcolor\":\"white\",\"startlinecolor\":\"#2a3f5f\"},\"baxis\":{\"endlinecolor\":\"#2a3f5f\",\"gridcolor\":\"white\",\"linecolor\":\"white\",\"minorgridcolor\":\"white\",\"startlinecolor\":\"#2a3f5f\"},\"type\":\"carpet\"}],\"table\":[{\"cells\":{\"fill\":{\"color\":\"#EBF0F8\"},\"line\":{\"color\":\"white\"}},\"header\":{\"fill\":{\"color\":\"#C8D4E3\"},\"line\":{\"color\":\"white\"}},\"type\":\"table\"}],\"barpolar\":[{\"marker\":{\"line\":{\"color\":\"#E5ECF6\",\"width\":0.5},\"pattern\":{\"fillmode\":\"overlay\",\"size\":10,\"solidity\":0.2}},\"type\":\"barpolar\"}],\"pie\":[{\"automargin\":true,\"type\":\"pie\"}]},\"layout\":{\"autotypenumbers\":\"strict\",\"colorway\":[\"#636efa\",\"#EF553B\",\"#00cc96\",\"#ab63fa\",\"#FFA15A\",\"#19d3f3\",\"#FF6692\",\"#B6E880\",\"#FF97FF\",\"#FECB52\"],\"font\":{\"color\":\"#2a3f5f\"},\"hovermode\":\"closest\",\"hoverlabel\":{\"align\":\"left\"},\"paper_bgcolor\":\"white\",\"plot_bgcolor\":\"#E5ECF6\",\"polar\":{\"bgcolor\":\"#E5ECF6\",\"angularaxis\":{\"gridcolor\":\"white\",\"linecolor\":\"white\",\"ticks\":\"\"},\"radialaxis\":{\"gridcolor\":\"white\",\"linecolor\":\"white\",\"ticks\":\"\"}},\"ternary\":{\"bgcolor\":\"#E5ECF6\",\"aaxis\":{\"gridcolor\":\"white\",\"linecolor\":\"white\",\"ticks\":\"\"},\"baxis\":{\"gridcolor\":\"white\",\"linecolor\":\"white\",\"ticks\":\"\"},\"caxis\":{\"gridcolor\":\"white\",\"linecolor\":\"white\",\"ticks\":\"\"}},\"coloraxis\":{\"colorbar\":{\"outlinewidth\":0,\"ticks\":\"\"}},\"colorscale\":{\"sequential\":[[0.0,\"#0d0887\"],[0.1111111111111111,\"#46039f\"],[0.2222222222222222,\"#7201a8\"],[0.3333333333333333,\"#9c179e\"],[0.4444444444444444,\"#bd3786\"],[0.5555555555555556,\"#d8576b\"],[0.6666666666666666,\"#ed7953\"],[0.7777777777777778,\"#fb9f3a\"],[0.8888888888888888,\"#fdca26\"],[1.0,\"#f0f921\"]],\"sequentialminus\":[[0.0,\"#0d0887\"],[0.1111111111111111,\"#46039f\"],[0.2222222222222222,\"#7201a8\"],[0.3333333333333333,\"#9c179e\"],[0.4444444444444444,\"#bd3786\"],[0.5555555555555556,\"#d8576b\"],[0.6666666666666666,\"#ed7953\"],[0.7777777777777778,\"#fb9f3a\"],[0.8888888888888888,\"#fdca26\"],[1.0,\"#f0f921\"]],\"diverging\":[[0,\"#8e0152\"],[0.1,\"#c51b7d\"],[0.2,\"#de77ae\"],[0.3,\"#f1b6da\"],[0.4,\"#fde0ef\"],[0.5,\"#f7f7f7\"],[0.6,\"#e6f5d0\"],[0.7,\"#b8e186\"],[0.8,\"#7fbc41\"],[0.9,\"#4d9221\"],[1,\"#276419\"]]},\"xaxis\":{\"gridcolor\":\"white\",\"linecolor\":\"white\",\"ticks\":\"\",\"title\":{\"standoff\":15},\"zerolinecolor\":\"white\",\"automargin\":true,\"zerolinewidth\":2},\"yaxis\":{\"gridcolor\":\"white\",\"linecolor\":\"white\",\"ticks\":\"\",\"title\":{\"standoff\":15},\"zerolinecolor\":\"white\",\"automargin\":true,\"zerolinewidth\":2},\"scene\":{\"xaxis\":{\"backgroundcolor\":\"#E5ECF6\",\"gridcolor\":\"white\",\"linecolor\":\"white\",\"showbackground\":true,\"ticks\":\"\",\"zerolinecolor\":\"white\",\"gridwidth\":2},\"yaxis\":{\"backgroundcolor\":\"#E5ECF6\",\"gridcolor\":\"white\",\"linecolor\":\"white\",\"showbackground\":true,\"ticks\":\"\",\"zerolinecolor\":\"white\",\"gridwidth\":2},\"zaxis\":{\"backgroundcolor\":\"#E5ECF6\",\"gridcolor\":\"white\",\"linecolor\":\"white\",\"showbackground\":true,\"ticks\":\"\",\"zerolinecolor\":\"white\",\"gridwidth\":2}},\"shapedefaults\":{\"line\":{\"color\":\"#2a3f5f\"}},\"annotationdefaults\":{\"arrowcolor\":\"#2a3f5f\",\"arrowhead\":0,\"arrowwidth\":1},\"geo\":{\"bgcolor\":\"white\",\"landcolor\":\"#E5ECF6\",\"subunitcolor\":\"white\",\"showland\":true,\"showlakes\":true,\"lakecolor\":\"white\"},\"title\":{\"x\":0.05},\"mapbox\":{\"style\":\"light\"}}}},                        {\"responsive\": true}                    ).then(function(){\n",
              "                            \n",
              "var gd = document.getElementById('39101813-fc6f-4184-8662-00a994d2faf3');\n",
              "var x = new MutationObserver(function (mutations, observer) {{\n",
              "        var display = window.getComputedStyle(gd).display;\n",
              "        if (!display || display === 'none') {{\n",
              "            console.log([gd, 'removed!']);\n",
              "            Plotly.purge(gd);\n",
              "            observer.disconnect();\n",
              "        }}\n",
              "}});\n",
              "\n",
              "// Listen for the removal of the full notebook cells\n",
              "var notebookContainer = gd.closest('#notebook-container');\n",
              "if (notebookContainer) {{\n",
              "    x.observe(notebookContainer, {childList: true});\n",
              "}}\n",
              "\n",
              "// Listen for the clearing of the current output cell\n",
              "var outputEl = gd.closest('.output');\n",
              "if (outputEl) {{\n",
              "    x.observe(outputEl, {childList: true});\n",
              "}}\n",
              "\n",
              "                        })                };                            </script>        </div>\n",
              "</body>\n",
              "</html>"
            ]
          },
          "metadata": {}
        }
      ]
    },
    {
      "cell_type": "code",
      "metadata": {
        "id": "2j7Zs1XLDGCL",
        "outputId": "75019a60-7ac0-40cc-e9a6-768afc99cde3",
        "colab": {
          "base_uri": "https://localhost:8080/",
          "height": 542
        }
      },
      "source": [
        "y_true = 100 + 20 * np.random.randn(1000)\n",
        "y_pred = y_true + 10 * np.random.randn(1000)\n",
        "\n",
        "results = pd.DataFrame({'y_true': y_true, 'y_pred': y_pred})\n",
        "results['error'] = results['y_true'] - results['y_pred']\n",
        "\n",
        "px.histogram(results, x='error', nbins=50, width=800)"
      ],
      "execution_count": 17,
      "outputs": [
        {
          "output_type": "display_data",
          "data": {
            "text/html": [
              "<html>\n",
              "<head><meta charset=\"utf-8\" /></head>\n",
              "<body>\n",
              "    <div>            <script src=\"https://cdnjs.cloudflare.com/ajax/libs/mathjax/2.7.5/MathJax.js?config=TeX-AMS-MML_SVG\"></script><script type=\"text/javascript\">if (window.MathJax && window.MathJax.Hub && window.MathJax.Hub.Config) {window.MathJax.Hub.Config({SVG: {font: \"STIX-Web\"}});}</script>                <script type=\"text/javascript\">window.PlotlyConfig = {MathJaxConfig: 'local'};</script>\n",
              "        <script charset=\"utf-8\" src=\"https://cdn.plot.ly/plotly-2.24.1.min.js\"></script>                <div id=\"ee33175c-d4c8-4556-b1d1-c77a0a1b2bbe\" class=\"plotly-graph-div\" style=\"height:525px; width:800px;\"></div>            <script type=\"text/javascript\">                                    window.PLOTLYENV=window.PLOTLYENV || {};                                    if (document.getElementById(\"ee33175c-d4c8-4556-b1d1-c77a0a1b2bbe\")) {                    Plotly.newPlot(                        \"ee33175c-d4c8-4556-b1d1-c77a0a1b2bbe\",                        [{\"alignmentgroup\":\"True\",\"bingroup\":\"x\",\"hovertemplate\":\"error=%{x}\\u003cbr\\u003ecount=%{y}\\u003cextra\\u003e\\u003c\\u002fextra\\u003e\",\"legendgroup\":\"\",\"marker\":{\"color\":\"#636efa\",\"pattern\":{\"shape\":\"\"}},\"name\":\"\",\"nbinsx\":50,\"offsetgroup\":\"\",\"orientation\":\"v\",\"showlegend\":false,\"x\":[3.3077489602305263,5.101608136502179,-1.4945608966330894,-7.707502096187881,-23.81713531732545,-8.272361076574228,-11.598399663883441,5.059661989878556,10.258681059694766,-0.6233134961912299,-1.0716991525959685,10.785127413645966,1.7529452990401353,-3.9931760171913027,-3.603933950180803,-5.042878533842725,-2.9096473013744344,5.070086592700562,5.139006266488437,11.989513979938764,-17.847750391850944,-0.13450364619292543,2.248530557948513,9.287920814524583,-29.356579023277774,10.73328032222895,4.288479256060725,-4.1583683628606,-6.002129657442779,-9.579320552156844,-18.076085077692625,-5.061576554607129,10.560307999666676,2.5694512512178136,-3.0783237251388442,-20.682260415058238,13.978054784242971,-12.025765052252268,-1.7991436954641813,-8.378305352294802,1.019947166359323,8.424326301263264,-7.508727794013325,-6.544310271056219,-9.72056965739722,0.1330463537863551,5.998220233198495,15.587869950238428,-8.193732681394067,-4.238894824439853,9.657826328639587,5.385736732966237,4.667588119514406,14.829844319824183,8.17682396605133,11.338303568063537,4.1247901188793605,7.38697498329563,16.270049208667487,-20.225902305694817,-12.525407310292309,7.790194215199861,-2.724213966536098,-4.1746508982129455,-11.910858547734762,8.186050266600787,-10.92106783982426,5.479053042069353,13.358624041686127,-7.241365593144977,-12.907584241224285,-25.87908973530685,11.997252650902134,-6.989196850807886,4.098012437935331,-7.833587105240312,14.704895512312504,12.62769775698564,7.758748231664839,-0.7896404566808428,6.41081266538356,-6.590543439134194,-10.268946182579157,-5.995775412453554,-16.187876396608686,-4.158266294553428,12.16896710340167,-13.633765135383399,6.051562356059975,-9.104184996855693,-15.737342165551055,-4.566880107303987,14.961588131646494,9.18212166509791,-13.227444668851348,1.691226856428159,-0.7957353494216619,-7.588244161636098,-6.9632286208032355,-2.7879981238546065,2.0866837122046604,3.1266844573235772,-8.578988252913433,-5.535695310677937,2.5730000061778924,-10.821123129931408,1.290341151297838,8.516621743343933,7.589706989033445,9.787408363097654,2.7241001660368767,-12.33724278336193,8.050951810305094,-1.8847576101810262,6.56689345627413,2.60309041271438,15.100412119852521,2.205382291565371,1.937053798049618,-5.402879440356955,-2.2328091325537116,11.98392124952045,-10.84198244043543,-2.1030304022199573,-1.98393517177486,0.09182353385138242,5.177574472222204,-2.178023397487266,-4.7558843592858295,17.468956913455557,5.3876083734609495,2.5494697040359,-2.561706056942782,-11.933110059271257,7.717408145967823,4.9796184681784155,5.125341106465498,8.015275901045413,3.471864951122626,-7.708022199879707,10.538354953643449,-4.278143951529032,17.01902230018335,5.613379964422066,3.2948930021798617,-16.748596729140644,2.7480230475268854,22.012434734509185,19.988889068612494,-0.34029586346680674,-6.137708557899089,-3.7545585762725295,-1.6757010580099063,-11.622595975056669,5.39591220737131,-8.94910556026825,16.320148850264175,9.049478329380662,18.070413949318166,2.748453006697929,0.4626121726634267,-1.1410149222651995,-0.6188335288713489,9.275533308117275,1.9024084441321634,14.974466686057482,-13.632289751322503,3.036260728980011,4.888861190436913,-15.889403284440831,12.42246533549229,11.255871140319698,10.962203248685654,0.678713816994815,-4.316316296375973,-7.3967546811783365,-25.719953174949694,22.494324542007632,-6.087355891244172,5.571305725722311,5.864151488887728,6.1977212825387795,9.087696708079733,-16.845248346034523,-8.422973270139025,-0.23195978557374985,-13.51015752487001,15.125289652988755,13.307051313309259,21.779677321946878,6.9941454012328705,-1.616985267047525,-1.0285857793233362,-1.4934191105988077,14.110568310660824,-8.031547426140222,-2.396275182389985,-7.330542814659978,18.92762177590052,-3.1149085879778937,11.877652399175261,3.973232525513623,-5.3436489863638315,-0.9109360625591307,8.515399797793194,-0.06273156184418838,15.31535315243643,-11.502673958982953,2.0528401949625135,-11.185499442553265,5.265316870960433,5.235759884065828,7.641867866378462,-8.761739316930758,7.094311573284756,-6.445954324151771,3.824523976692902,19.759632998916196,5.703140677864667,11.791082143628486,-0.33902723682336955,11.904077356744907,-9.259751007146164,0.9107586035302688,1.7759599475873955,-6.5589213778758335,-9.639069340758624,0.20098751769651813,7.7120029954929095,17.7396961611213,6.8604975703517965,6.172122466479614,-1.0705745299229648,3.4514688113802663,-6.879329720514278,6.1298327127069,0.5704116685294167,-11.839874431968894,-3.418252139549665,0.6003754168856403,6.019444419351771,6.332313967149773,8.506132529519476,5.410068657828987,-7.55665838744315,2.2188827129226922,13.497730693812315,-17.681692930597833,-3.1996519114516246,14.069434005131697,4.418489272408237,-1.1088638282841714,-17.04592093297377,11.0811245825887,-9.760407193559473,-13.994864269723436,6.286543050745706,2.775136188602332,10.363092473737701,2.034611410803052,0.36589974342930986,-6.596499980823694,-10.901834710204469,7.480960646216474,19.673250642259944,0.21244779276241843,-2.935375299686399,-2.4941768768504176,3.2667324750904356,-1.247520996639338,-15.154448083522482,-3.8173416896250956,3.733684250030848,5.0019781709599584,1.6985235767773048,-16.367399618306393,1.8330070952619764,0.1979434452070734,4.823135709363029,-10.989833574419634,-19.598372547446743,-4.506130494313879,-0.8277290378542546,-0.36782833174234497,23.84306788785746,-7.451508642848168,-1.341664159958441,-4.283420506607243,7.114621940837054,3.8445687897709178,4.110249365031734,-10.216229840730392,3.7875983660309345,-20.826603221097983,-4.308624190150368,12.756826599957321,1.2854629325195646,6.516751221564164,21.943824698200245,-15.994709401137897,-7.031425422200044,-5.332073178993127,-1.6540366029970386,13.820175686924372,4.8361713955543735,-8.41780774784013,10.512200297825032,25.317693162508135,2.271060077809267,1.4175755402753794,-1.3556341641470908,-7.285186435145363,-6.376058122312088,-2.5876980524392224,-11.955313880867095,15.189697808133147,-5.045818144773904,-6.265383633369424,12.39562286080239,15.028706086823888,7.459421264756017,6.61541442515292,-7.534194635024306,6.145387836910942,8.563485182812045,6.1163373669455865,-11.18632334154212,-0.13043374376951533,1.7925102535691195,1.100054987010509,-12.920603343265228,7.491717266032424,-13.155082909401045,-2.104962989215039,1.6041938197534762,-25.00900497934282,10.556394897985967,3.5368575956700568,12.324312391640007,-9.524619705361687,-16.891889336516783,-16.699227814046395,-12.239487531460043,1.9762046779596574,3.6524097748984587,16.71169772494065,-20.358735351817927,-4.6897807814846715,4.919569048694825,-13.28056888986967,9.727645167600002,-4.0662203422267424,1.726291342908354,-6.386771398803006,0.6357353918612176,14.509278911112247,-0.7557637267003798,-10.488641418753616,0.2921640585398535,-7.751151215890857,10.455294856740537,0.2626079326985291,6.24510455088577,-7.4698084010471035,-0.31491562261996364,-6.900736763366126,-10.877104261578666,-6.916185751213888,-2.7311843429364444,9.982122585114055,0.02786110666900754,5.330904020158329,3.4406395670422683,3.745341507502502,9.799255747822443,19.573385891339896,6.681430483277666,-1.9337945192415873,13.481770454274894,-0.15682236471624833,-19.002684243109655,-10.230565552522393,-16.435415091205286,-3.911278769327268,-11.67509822986446,7.239647304677874,6.4434026702198395,27.39140206137472,-11.861454740422985,-15.403239798198868,5.531772453472698,2.5395170639723545,7.538621136909612,-3.8265355147749176,-11.249325453032412,17.42771973881041,-4.094385306422524,2.7667177171914545,-1.1339439196668906,-4.589940016742901,1.8820243877282081,1.035868534057812,2.138751675546388,-9.703162017882818,-4.187599601274968,-2.205835377373603,12.709517210922826,3.7857974321315453,-8.986691603391748,-0.37696573123922406,-6.595314695891389,-17.665118003276334,-10.386060692088165,-0.9315833769974233,5.109891701957267,25.53549596055899,1.6838492247285188,3.2601249581684897,-3.9036619439537503,1.5390522697468754,3.2038505943679496,17.793989305072202,9.399678291500663,-4.766510408005573,-17.159076311326942,0.9752538374562363,-3.2781107357412367,-9.52478156952806,8.108939362002502,-3.668140432854429,7.404901063321589,-8.648244384910114,-1.5140304795173307,-2.984518139814398,7.8259859741858975,-7.070323596107848,-20.84712921231015,10.079116954282057,3.3975900764752396,-2.3160747416809215,-7.864062119958163,5.595462852894684,28.3303029014274,-13.591894941640248,-7.605061195841429,17.429475304866656,6.0756879177955625,-15.681824295273259,-14.477964184578667,-9.386400226789448,1.7611243395986236,-0.8298741881251033,1.309258051261267,-11.282397832688375,8.7584240649511,8.057996548842056,-10.10274586836016,0.44361455511561587,-13.784673554538088,6.71512206980546,0.5477836033882397,9.224129848439532,-0.07362681423566642,14.785469369987993,4.876334209549626,14.362538649281177,-6.939232331912578,-7.165893397596506,17.302627304843455,-13.338857455005723,-24.974151264198554,-0.46006386736341653,6.411142602246443,-28.24330591003047,13.189684983025103,-0.20106466869098938,-1.796222726319229,-13.451476204524141,-3.597389751267883,4.986338957884513,9.511843703879563,3.418218202461361,10.069273609451443,-0.47825319784682563,5.641961798604868,14.940377932897505,-12.551457883749038,4.976725234290399,12.681368049753125,1.6825913448754193,-0.6837156596765936,17.46466725579033,-3.3164766712576323,10.471575686902654,-17.110288091907876,-5.239605120767351,3.998999901093171,7.451677703173502,1.0496770756362395,-6.127907415832894,0.2549412858519986,2.1715880713685607,-0.5837029081789495,6.038589312369552,3.432059268430379,20.85792438905004,-9.737262308523668,-2.9879778032176176,7.734558440334297,-18.987349813552385,-0.8701648039238705,10.361435719751967,-8.567374214704586,-3.9804821650926243,-3.9457998548421926,4.2575560465159015,-4.50495723778036,2.617582902210941,-5.559414516458418,19.049444540106393,4.338734629791887,-17.22155097808195,7.670674554003,6.038382974931864,4.479613384499757,12.148061358886434,22.082807762282528,2.3058639852361296,-1.3585942408165579,0.5250506853865176,1.448785619478869,-0.4304087085038759,-10.22841471550764,1.9044618592921694,5.740825770872689,2.811254848880864,-5.793467597567755,-14.1202687854325,6.281437391691782,-0.9893378702888356,-3.38357441935959,9.92578006728823,-0.20417167212917775,14.656738573420952,17.690503037393995,-3.6674640789225634,3.8387474133078285,-2.0228040762121964,0.17894977008350565,9.764000486637968,0.45254301964337174,12.331013050148556,-13.909723580014003,13.559703448599635,1.9578527096858096,10.42271588047248,-5.7042117336079485,3.3143137128150215,5.186667196212099,-8.532015450515544,-0.294305916775528,-5.166444459359667,9.813259365174645,14.048169439275071,-1.0720796204013396,3.188463554947319,-6.264346724539436,0.7990845266254922,-2.0507533923462944,16.23382529941243,-18.884369396142574,1.642419850320323,-6.975869703391993,8.360916702196263,-3.080099022173407,13.02844763524746,-4.520678382596714,3.5597408438583216,-0.2919050393556688,-6.9797403013009784,12.325403112202807,6.844917306127968,-4.573242810867654,-20.982214745467473,1.380823346614818,-5.9113611792393215,1.0697146985848036,-19.422455947562995,17.472216669652553,-0.9462104466935841,16.255440335620605,25.065715705367168,-2.974620531178161,-1.394977961474595,2.848369377422017,1.0619409003975306,-30.982994340712565,2.581751380314344,-5.101243612500745,6.493648196138807,-2.9523257504060325,2.3823367505561777,4.1051848272973075,-18.188985322003248,-11.771849631843395,-1.3674664739923088,23.042119359439667,3.6100922325257017,-27.030275644050846,2.306616666397076,-11.032175720536586,-14.419424019526012,-2.189639158559757,8.41821631868153,24.35312331782889,-6.841632086089547,8.147560028235475,-1.7615045188769187,12.49820339589364,2.6523754047020276,-0.33719054901052914,-2.6859358104429845,11.14822187352415,-11.969109487613522,5.968947847319711,16.744694604532455,1.0902341996346365,-0.3437530902645989,-1.605894331717593,-13.621324036850794,2.3644883673585895,1.1961962436877087,11.031843812330933,-8.20553502887897,-1.8430906407810355,4.200277272941619,19.046746934654635,-14.44412195055088,12.276799644560569,5.912780093697052,-3.5834451107600387,11.965579286166857,14.935097782531429,21.239475827006643,-7.209969529056366,5.451862447263224,-29.2727009247333,9.94355065630873,9.214510234289207,5.653929702854015,-2.431346551384891,4.702033387853106,-6.123322140025124,9.785883899886542,13.815917184635808,17.982147394091072,22.23574167937197,5.180690194750568,3.0098031239322154,6.31437027483183,-12.434057971871624,-12.280302096081357,3.348029874445018,17.939211131919635,5.667051080550522,5.998213939170611,6.571349622780588,6.977189038982445,6.534628957248074,3.8654161589775953,6.355410988155569,-2.083225086255908,-3.6036871590486044,9.106450871824904,-12.71065326007033,9.800623018406142,16.17800613815337,-3.8077807136505157,8.174081344143403,-3.212914707573873,24.0366860110053,-13.924559414830668,-6.722934080404016,15.004765491630025,14.787771238462852,-16.722659040975273,7.373799034979584,8.341848487326246,22.660520941492834,3.507782056015543,2.2771961483575325,-7.1549309676948525,13.990784281844753,15.2028679224061,-4.509626347764765,-10.06730071227065,15.711523511178832,-10.81514086299741,-0.37541841486822136,-10.91805339074645,0.7022036151761597,25.222779174879506,1.5196738231603888,-10.601438186712699,8.937460190837143,3.879649689074526,1.7613350355097879,28.99513879868482,-16.71347575437477,9.013756798971741,-5.057354324727996,0.8670113614820849,-12.576190563593613,-4.060561224280804,2.3492427152097406,8.9351509251928,-7.978507013821385,18.73441303954617,-6.458904202758916,10.990447515548723,-12.522836619566391,-1.6129954266269522,-6.441237678501082,-0.8198881382471939,17.523770951409972,8.60729163395338,-6.723893376113821,-1.666558173598446,-11.809899053056725,-4.032745630371721,9.667018907026602,7.960641377206343,-1.0291739052323692,23.14044066000106,-16.73441885622985,-4.417467363775572,-12.27034597048872,15.806039408091692,-12.445651603552548,-22.31498911027748,13.208783553773173,-7.714017949037668,-0.011099446872933072,15.44433848248245,-4.928839718518702,-8.336032048373482,6.011265526688462,-11.65916520255223,16.66763406789198,14.947561464496445,-1.365973955887526,-0.25385277972272036,7.165734884241047,-8.095944359718857,-5.308943142159492,-8.581390709340155,1.2313643535226788,-6.0258026797834106,4.456503030299942,-20.538186900865952,8.125457701219858,-21.052974294583123,-0.3488794708940901,13.755108895687428,-13.680793504886012,-1.2590138839495921,-8.51124098380238,-12.238559185425942,-3.3795555414502587,5.922408448128152,-9.757133776692513,-0.00755507454596227,-6.858578186084188,21.537305737914615,-4.469817170098523,6.385858251450301,-16.53309637178529,-6.230873478890956,-2.3985774584929658,-4.86309993350222,9.984408528767176,-16.232566905280535,-19.91370418416905,-3.9291351054821604,-15.904035685736389,5.691481986725336,7.971135662249807,-0.4092474872892353,-4.349410383678986,3.9398668124312053,-5.377681903684838,-3.0638948207341343,9.983067752910557,-5.187930174517206,-8.635282425215209,-1.7146931759039035,-11.526481032616928,12.174037934969533,-4.679504221318524,11.702807063967754,11.140813582330878,6.3093083373778995,9.420601835742445,5.479958187411384,2.1415031071118875,-8.371544863313844,3.2115903870570293,15.856257067695921,-11.40067846495161,8.370901336150396,0.5872042710462893,-4.465365069407113,-1.9961041840278284,-10.94179547521476,-4.790031433927595,8.61309579697108,-21.78562173991662,-1.9433346333823351,1.4734022662150608,-9.639254230555707,-2.4945094593007155,-3.992281929393272,-24.921839986006873,2.751214282550464,3.177608940173968,-1.1657851201246388,-10.715159355810385,15.065340301903987,19.655558914765052,5.871152706201471,16.339229590592872,4.248313475256381,-5.024996961292899,8.90748863552264,14.268265767813418,-0.6933716171534741,-8.625434846151705,16.949734385166124,-8.202323983059841,-8.17306203738326,-9.540851021566283,-12.18480214871687,-22.02013924659616,3.560920486190554,-1.0957158007785779,4.164384332480253,-0.019768447558107027,-15.328733556363119,13.450144839306688,8.61049672165575,-13.771809365045613,-10.20036506902089,3.6313164681707804,-8.544020011207195,-3.412158424920335,-15.002746090009879,-0.745095938267724,-10.256321138725824,-26.4201191049262,-5.98099155047467,-0.4932816579484296,-7.224469852209779,3.652808582038844,-23.879677055247328,-1.8007103769598132,2.729333202255134,8.356890050200363,-10.972201916064392,-8.671874128277395,4.973543714140931,-5.764513451224232,15.085559682128562,-1.8497057507315589,-4.527563520766947,-17.07329809559222,7.708188027286894,12.78352628802324,8.95427960925042,13.365685003149196,-13.366573577589833,-15.486392950240372,-3.2021657794882827,-12.212949456851476,-1.3395838058023486,0.951116477007659,3.3303761905376064,3.1039099137756523,15.47801556309031,-2.642547636073388,0.40333910214043556,-7.453607240778759,-0.9352349643860975,1.6270370156909166,8.711930300076304,-0.7215323682176091,-7.382372308161621,11.4333899108386,-0.8747375368073875,-2.3304295152948384,7.180647836182644,5.87856304908,-2.3061084876621436,11.334210182926228,-3.4992371524939188,8.953543736591996,-10.62853693033216,-23.378277453883,8.607568017018195,-5.342078623746744,7.267419048820187,-10.40954173797789,12.652584090852145,-4.805867584277124,8.729889668893527,2.069845890983686,10.310252751473072,-8.223504708957535,8.369803544395864,-5.519642593318281,3.440980282623329,1.1447237179886258,-1.4775590740012916,7.618246716588487,-2.1036711354088737,-15.303345643544105,7.7809478583271385,-11.71810143273845,-14.980976334877838,8.16154989028044,14.550546050905524,-3.0196090017176402,5.4740752276687346,-18.68603219163002,-0.3480754049983261,8.021994080351789,11.471595110117121,-10.899049590908305,5.711839740841867,-0.4382879946042806,-9.5580274511248,4.842583519308306,0.45928828740160554,0.16568409822519925,-6.833245115160921,-5.907443355103254,2.2011373125482834,-0.636490614965183,3.717790115234891,14.776124069194452,-2.576008573981298,-18.921917608330688,8.837191406910634,7.73029709602703,8.707277716437417,-7.245917787231221,-4.4848545419643955,1.5853769241645637,9.180190616389638,-0.9237679163992425,15.646221273358044,-1.4342656685749375,-8.715243860879347,12.511991366336773,15.325182768296642,-15.794378916948588,6.117596395045851,-11.359478459438222,1.5399766519783213,1.619548169413278,-4.384126994966451,8.839988567464403,-1.3249714349564528,3.814894148240924,13.204934434050315,-3.374820747263996,2.633078068779156,1.570248284447075,12.10160943414158,-15.914003677628045,-8.767141863861156,-9.641558841719785,3.0544470244168167,17.2918288950342,-19.52917382489511,0.6109750800586795,7.487997960200538,-4.168015744831138,-11.67120788003298,0.23050556085466667,-12.78575167939374,-10.82999938516869,10.76381187402059,6.737901056594765,-9.575371632797669,27.126125638104384,1.494556931649882,14.308312016246717,4.765538014335249,2.9882008902920347,3.582443779075078],\"xaxis\":\"x\",\"yaxis\":\"y\",\"type\":\"histogram\"}],                        {\"template\":{\"data\":{\"histogram2dcontour\":[{\"type\":\"histogram2dcontour\",\"colorbar\":{\"outlinewidth\":0,\"ticks\":\"\"},\"colorscale\":[[0.0,\"#0d0887\"],[0.1111111111111111,\"#46039f\"],[0.2222222222222222,\"#7201a8\"],[0.3333333333333333,\"#9c179e\"],[0.4444444444444444,\"#bd3786\"],[0.5555555555555556,\"#d8576b\"],[0.6666666666666666,\"#ed7953\"],[0.7777777777777778,\"#fb9f3a\"],[0.8888888888888888,\"#fdca26\"],[1.0,\"#f0f921\"]]}],\"choropleth\":[{\"type\":\"choropleth\",\"colorbar\":{\"outlinewidth\":0,\"ticks\":\"\"}}],\"histogram2d\":[{\"type\":\"histogram2d\",\"colorbar\":{\"outlinewidth\":0,\"ticks\":\"\"},\"colorscale\":[[0.0,\"#0d0887\"],[0.1111111111111111,\"#46039f\"],[0.2222222222222222,\"#7201a8\"],[0.3333333333333333,\"#9c179e\"],[0.4444444444444444,\"#bd3786\"],[0.5555555555555556,\"#d8576b\"],[0.6666666666666666,\"#ed7953\"],[0.7777777777777778,\"#fb9f3a\"],[0.8888888888888888,\"#fdca26\"],[1.0,\"#f0f921\"]]}],\"heatmap\":[{\"type\":\"heatmap\",\"colorbar\":{\"outlinewidth\":0,\"ticks\":\"\"},\"colorscale\":[[0.0,\"#0d0887\"],[0.1111111111111111,\"#46039f\"],[0.2222222222222222,\"#7201a8\"],[0.3333333333333333,\"#9c179e\"],[0.4444444444444444,\"#bd3786\"],[0.5555555555555556,\"#d8576b\"],[0.6666666666666666,\"#ed7953\"],[0.7777777777777778,\"#fb9f3a\"],[0.8888888888888888,\"#fdca26\"],[1.0,\"#f0f921\"]]}],\"heatmapgl\":[{\"type\":\"heatmapgl\",\"colorbar\":{\"outlinewidth\":0,\"ticks\":\"\"},\"colorscale\":[[0.0,\"#0d0887\"],[0.1111111111111111,\"#46039f\"],[0.2222222222222222,\"#7201a8\"],[0.3333333333333333,\"#9c179e\"],[0.4444444444444444,\"#bd3786\"],[0.5555555555555556,\"#d8576b\"],[0.6666666666666666,\"#ed7953\"],[0.7777777777777778,\"#fb9f3a\"],[0.8888888888888888,\"#fdca26\"],[1.0,\"#f0f921\"]]}],\"contourcarpet\":[{\"type\":\"contourcarpet\",\"colorbar\":{\"outlinewidth\":0,\"ticks\":\"\"}}],\"contour\":[{\"type\":\"contour\",\"colorbar\":{\"outlinewidth\":0,\"ticks\":\"\"},\"colorscale\":[[0.0,\"#0d0887\"],[0.1111111111111111,\"#46039f\"],[0.2222222222222222,\"#7201a8\"],[0.3333333333333333,\"#9c179e\"],[0.4444444444444444,\"#bd3786\"],[0.5555555555555556,\"#d8576b\"],[0.6666666666666666,\"#ed7953\"],[0.7777777777777778,\"#fb9f3a\"],[0.8888888888888888,\"#fdca26\"],[1.0,\"#f0f921\"]]}],\"surface\":[{\"type\":\"surface\",\"colorbar\":{\"outlinewidth\":0,\"ticks\":\"\"},\"colorscale\":[[0.0,\"#0d0887\"],[0.1111111111111111,\"#46039f\"],[0.2222222222222222,\"#7201a8\"],[0.3333333333333333,\"#9c179e\"],[0.4444444444444444,\"#bd3786\"],[0.5555555555555556,\"#d8576b\"],[0.6666666666666666,\"#ed7953\"],[0.7777777777777778,\"#fb9f3a\"],[0.8888888888888888,\"#fdca26\"],[1.0,\"#f0f921\"]]}],\"mesh3d\":[{\"type\":\"mesh3d\",\"colorbar\":{\"outlinewidth\":0,\"ticks\":\"\"}}],\"scatter\":[{\"fillpattern\":{\"fillmode\":\"overlay\",\"size\":10,\"solidity\":0.2},\"type\":\"scatter\"}],\"parcoords\":[{\"type\":\"parcoords\",\"line\":{\"colorbar\":{\"outlinewidth\":0,\"ticks\":\"\"}}}],\"scatterpolargl\":[{\"type\":\"scatterpolargl\",\"marker\":{\"colorbar\":{\"outlinewidth\":0,\"ticks\":\"\"}}}],\"bar\":[{\"error_x\":{\"color\":\"#2a3f5f\"},\"error_y\":{\"color\":\"#2a3f5f\"},\"marker\":{\"line\":{\"color\":\"#E5ECF6\",\"width\":0.5},\"pattern\":{\"fillmode\":\"overlay\",\"size\":10,\"solidity\":0.2}},\"type\":\"bar\"}],\"scattergeo\":[{\"type\":\"scattergeo\",\"marker\":{\"colorbar\":{\"outlinewidth\":0,\"ticks\":\"\"}}}],\"scatterpolar\":[{\"type\":\"scatterpolar\",\"marker\":{\"colorbar\":{\"outlinewidth\":0,\"ticks\":\"\"}}}],\"histogram\":[{\"marker\":{\"pattern\":{\"fillmode\":\"overlay\",\"size\":10,\"solidity\":0.2}},\"type\":\"histogram\"}],\"scattergl\":[{\"type\":\"scattergl\",\"marker\":{\"colorbar\":{\"outlinewidth\":0,\"ticks\":\"\"}}}],\"scatter3d\":[{\"type\":\"scatter3d\",\"line\":{\"colorbar\":{\"outlinewidth\":0,\"ticks\":\"\"}},\"marker\":{\"colorbar\":{\"outlinewidth\":0,\"ticks\":\"\"}}}],\"scattermapbox\":[{\"type\":\"scattermapbox\",\"marker\":{\"colorbar\":{\"outlinewidth\":0,\"ticks\":\"\"}}}],\"scatterternary\":[{\"type\":\"scatterternary\",\"marker\":{\"colorbar\":{\"outlinewidth\":0,\"ticks\":\"\"}}}],\"scattercarpet\":[{\"type\":\"scattercarpet\",\"marker\":{\"colorbar\":{\"outlinewidth\":0,\"ticks\":\"\"}}}],\"carpet\":[{\"aaxis\":{\"endlinecolor\":\"#2a3f5f\",\"gridcolor\":\"white\",\"linecolor\":\"white\",\"minorgridcolor\":\"white\",\"startlinecolor\":\"#2a3f5f\"},\"baxis\":{\"endlinecolor\":\"#2a3f5f\",\"gridcolor\":\"white\",\"linecolor\":\"white\",\"minorgridcolor\":\"white\",\"startlinecolor\":\"#2a3f5f\"},\"type\":\"carpet\"}],\"table\":[{\"cells\":{\"fill\":{\"color\":\"#EBF0F8\"},\"line\":{\"color\":\"white\"}},\"header\":{\"fill\":{\"color\":\"#C8D4E3\"},\"line\":{\"color\":\"white\"}},\"type\":\"table\"}],\"barpolar\":[{\"marker\":{\"line\":{\"color\":\"#E5ECF6\",\"width\":0.5},\"pattern\":{\"fillmode\":\"overlay\",\"size\":10,\"solidity\":0.2}},\"type\":\"barpolar\"}],\"pie\":[{\"automargin\":true,\"type\":\"pie\"}]},\"layout\":{\"autotypenumbers\":\"strict\",\"colorway\":[\"#636efa\",\"#EF553B\",\"#00cc96\",\"#ab63fa\",\"#FFA15A\",\"#19d3f3\",\"#FF6692\",\"#B6E880\",\"#FF97FF\",\"#FECB52\"],\"font\":{\"color\":\"#2a3f5f\"},\"hovermode\":\"closest\",\"hoverlabel\":{\"align\":\"left\"},\"paper_bgcolor\":\"white\",\"plot_bgcolor\":\"#E5ECF6\",\"polar\":{\"bgcolor\":\"#E5ECF6\",\"angularaxis\":{\"gridcolor\":\"white\",\"linecolor\":\"white\",\"ticks\":\"\"},\"radialaxis\":{\"gridcolor\":\"white\",\"linecolor\":\"white\",\"ticks\":\"\"}},\"ternary\":{\"bgcolor\":\"#E5ECF6\",\"aaxis\":{\"gridcolor\":\"white\",\"linecolor\":\"white\",\"ticks\":\"\"},\"baxis\":{\"gridcolor\":\"white\",\"linecolor\":\"white\",\"ticks\":\"\"},\"caxis\":{\"gridcolor\":\"white\",\"linecolor\":\"white\",\"ticks\":\"\"}},\"coloraxis\":{\"colorbar\":{\"outlinewidth\":0,\"ticks\":\"\"}},\"colorscale\":{\"sequential\":[[0.0,\"#0d0887\"],[0.1111111111111111,\"#46039f\"],[0.2222222222222222,\"#7201a8\"],[0.3333333333333333,\"#9c179e\"],[0.4444444444444444,\"#bd3786\"],[0.5555555555555556,\"#d8576b\"],[0.6666666666666666,\"#ed7953\"],[0.7777777777777778,\"#fb9f3a\"],[0.8888888888888888,\"#fdca26\"],[1.0,\"#f0f921\"]],\"sequentialminus\":[[0.0,\"#0d0887\"],[0.1111111111111111,\"#46039f\"],[0.2222222222222222,\"#7201a8\"],[0.3333333333333333,\"#9c179e\"],[0.4444444444444444,\"#bd3786\"],[0.5555555555555556,\"#d8576b\"],[0.6666666666666666,\"#ed7953\"],[0.7777777777777778,\"#fb9f3a\"],[0.8888888888888888,\"#fdca26\"],[1.0,\"#f0f921\"]],\"diverging\":[[0,\"#8e0152\"],[0.1,\"#c51b7d\"],[0.2,\"#de77ae\"],[0.3,\"#f1b6da\"],[0.4,\"#fde0ef\"],[0.5,\"#f7f7f7\"],[0.6,\"#e6f5d0\"],[0.7,\"#b8e186\"],[0.8,\"#7fbc41\"],[0.9,\"#4d9221\"],[1,\"#276419\"]]},\"xaxis\":{\"gridcolor\":\"white\",\"linecolor\":\"white\",\"ticks\":\"\",\"title\":{\"standoff\":15},\"zerolinecolor\":\"white\",\"automargin\":true,\"zerolinewidth\":2},\"yaxis\":{\"gridcolor\":\"white\",\"linecolor\":\"white\",\"ticks\":\"\",\"title\":{\"standoff\":15},\"zerolinecolor\":\"white\",\"automargin\":true,\"zerolinewidth\":2},\"scene\":{\"xaxis\":{\"backgroundcolor\":\"#E5ECF6\",\"gridcolor\":\"white\",\"linecolor\":\"white\",\"showbackground\":true,\"ticks\":\"\",\"zerolinecolor\":\"white\",\"gridwidth\":2},\"yaxis\":{\"backgroundcolor\":\"#E5ECF6\",\"gridcolor\":\"white\",\"linecolor\":\"white\",\"showbackground\":true,\"ticks\":\"\",\"zerolinecolor\":\"white\",\"gridwidth\":2},\"zaxis\":{\"backgroundcolor\":\"#E5ECF6\",\"gridcolor\":\"white\",\"linecolor\":\"white\",\"showbackground\":true,\"ticks\":\"\",\"zerolinecolor\":\"white\",\"gridwidth\":2}},\"shapedefaults\":{\"line\":{\"color\":\"#2a3f5f\"}},\"annotationdefaults\":{\"arrowcolor\":\"#2a3f5f\",\"arrowhead\":0,\"arrowwidth\":1},\"geo\":{\"bgcolor\":\"white\",\"landcolor\":\"#E5ECF6\",\"subunitcolor\":\"white\",\"showland\":true,\"showlakes\":true,\"lakecolor\":\"white\"},\"title\":{\"x\":0.05},\"mapbox\":{\"style\":\"light\"}}},\"xaxis\":{\"anchor\":\"y\",\"domain\":[0.0,1.0],\"title\":{\"text\":\"error\"}},\"yaxis\":{\"anchor\":\"x\",\"domain\":[0.0,1.0],\"title\":{\"text\":\"count\"}},\"legend\":{\"tracegroupgap\":0},\"margin\":{\"t\":60},\"barmode\":\"relative\",\"width\":800},                        {\"responsive\": true}                    ).then(function(){\n",
              "                            \n",
              "var gd = document.getElementById('ee33175c-d4c8-4556-b1d1-c77a0a1b2bbe');\n",
              "var x = new MutationObserver(function (mutations, observer) {{\n",
              "        var display = window.getComputedStyle(gd).display;\n",
              "        if (!display || display === 'none') {{\n",
              "            console.log([gd, 'removed!']);\n",
              "            Plotly.purge(gd);\n",
              "            observer.disconnect();\n",
              "        }}\n",
              "}});\n",
              "\n",
              "// Listen for the removal of the full notebook cells\n",
              "var notebookContainer = gd.closest('#notebook-container');\n",
              "if (notebookContainer) {{\n",
              "    x.observe(notebookContainer, {childList: true});\n",
              "}}\n",
              "\n",
              "// Listen for the clearing of the current output cell\n",
              "var outputEl = gd.closest('.output');\n",
              "if (outputEl) {{\n",
              "    x.observe(outputEl, {childList: true});\n",
              "}}\n",
              "\n",
              "                        })                };                            </script>        </div>\n",
              "</body>\n",
              "</html>"
            ]
          },
          "metadata": {}
        }
      ]
    },
    {
      "cell_type": "markdown",
      "metadata": {
        "id": "ZVr1O1j3FFiM"
      },
      "source": [
        "### <a name='a3'></a> Mean Absolute Error - Średni błąd bezwzględny\n",
        "### $$MAE = \\frac{1}{n}\\sum_{i=1}^{n}|y_{true} - y_{pred}|$$"
      ]
    },
    {
      "cell_type": "code",
      "metadata": {
        "id": "4fwXpVNyFXBl",
        "outputId": "5e30f196-5c61-4a97-f844-7a3854256b9f",
        "colab": {
          "base_uri": "https://localhost:8080/"
        }
      },
      "source": [
        "def mean_absolute_error(y_true, y_pred):\n",
        "    return abs(y_true - y_pred).sum() / len(y_true)\n",
        "\n",
        "mean_absolute_error(y_true, y_pred)"
      ],
      "execution_count": 18,
      "outputs": [
        {
          "output_type": "execute_result",
          "data": {
            "text/plain": [
              "8.029713522680673"
            ]
          },
          "metadata": {},
          "execution_count": 18
        }
      ]
    },
    {
      "cell_type": "code",
      "metadata": {
        "id": "nOINyAyqErWz",
        "outputId": "5d4de543-40fe-4c80-d2b6-46bddafd884b",
        "colab": {
          "base_uri": "https://localhost:8080/"
        }
      },
      "source": [
        "from sklearn.metrics import mean_absolute_error\n",
        "\n",
        "mean_absolute_error(y_true, y_pred)"
      ],
      "execution_count": 19,
      "outputs": [
        {
          "output_type": "execute_result",
          "data": {
            "text/plain": [
              "8.029713522680673"
            ]
          },
          "metadata": {},
          "execution_count": 19
        }
      ]
    },
    {
      "cell_type": "markdown",
      "metadata": {
        "id": "dbAtacGCGjaR"
      },
      "source": [
        "### <a name='a4'></a> Mean Squared Error - MSE - Błąd średniokwadratowy\n",
        "### $$MSE = \\frac{1}{n}\\sum_{i=1}^{n}(y_{true} - y_{pred})^{2}$$"
      ]
    },
    {
      "cell_type": "code",
      "metadata": {
        "id": "rikMpoD9E91I",
        "outputId": "32e24afa-437c-4b15-a24e-da24205523b6",
        "colab": {
          "base_uri": "https://localhost:8080/"
        }
      },
      "source": [
        "def mean_squared_error(y_true, y_pred):\n",
        "    return ((y_true - y_pred) ** 2).sum() / len(y_true)\n",
        "\n",
        "mean_squared_error(y_true, y_pred)"
      ],
      "execution_count": 20,
      "outputs": [
        {
          "output_type": "execute_result",
          "data": {
            "text/plain": [
              "102.17201792898915"
            ]
          },
          "metadata": {},
          "execution_count": 20
        }
      ]
    },
    {
      "cell_type": "code",
      "metadata": {
        "id": "BxQx5HFaGzi5",
        "outputId": "f5cb24ef-71af-4332-a960-99350dabc27a",
        "colab": {
          "base_uri": "https://localhost:8080/"
        }
      },
      "source": [
        "from sklearn.metrics import mean_squared_error\n",
        "\n",
        "mean_squared_error(y_true, y_pred)"
      ],
      "execution_count": 21,
      "outputs": [
        {
          "output_type": "execute_result",
          "data": {
            "text/plain": [
              "102.17201792898915"
            ]
          },
          "metadata": {},
          "execution_count": 21
        }
      ]
    },
    {
      "cell_type": "markdown",
      "metadata": {
        "id": "SKJJg3jNG-xj"
      },
      "source": [
        "### <a name='a5'></a> Root Mean Squared Error - RMSE - Pierwiastek błędu średniokwadratowego\n",
        "### $$RMSE = \\sqrt{MSE}$$"
      ]
    },
    {
      "cell_type": "code",
      "metadata": {
        "id": "ZoEokLM8G8JO",
        "outputId": "e03b48b9-47c9-471f-de2e-e235bed89755",
        "colab": {
          "base_uri": "https://localhost:8080/"
        }
      },
      "source": [
        "def root_mean_squared_error(y_true, y_pred):\n",
        "    return np.sqrt(((y_true - y_pred) ** 2).sum() / len(y_true))\n",
        "\n",
        "root_mean_squared_error(y_true, y_pred)"
      ],
      "execution_count": 22,
      "outputs": [
        {
          "output_type": "execute_result",
          "data": {
            "text/plain": [
              "10.1080175073547"
            ]
          },
          "metadata": {},
          "execution_count": 22
        }
      ]
    },
    {
      "cell_type": "code",
      "metadata": {
        "id": "VEdgXl5PHdEQ",
        "outputId": "6eacfd34-59be-4141-de4c-95fbb9afeea6",
        "colab": {
          "base_uri": "https://localhost:8080/"
        }
      },
      "source": [
        "np.sqrt(mean_squared_error(y_true, y_pred))"
      ],
      "execution_count": 23,
      "outputs": [
        {
          "output_type": "execute_result",
          "data": {
            "text/plain": [
              "10.1080175073547"
            ]
          },
          "metadata": {},
          "execution_count": 23
        }
      ]
    },
    {
      "cell_type": "markdown",
      "metadata": {
        "id": "wzS5t7dzIH-x"
      },
      "source": [
        "### <a name='a6'></a>  Max Error - Błąd maksymalny\n",
        "\n",
        "$$ME = max(|y\\_true - y\\_pred|)$$"
      ]
    },
    {
      "cell_type": "code",
      "metadata": {
        "id": "0v4d3b_FHsYO"
      },
      "source": [
        "def max_error(y_true, y_pred):\n",
        "    return abs(y_true - y_pred).max()"
      ],
      "execution_count": 24,
      "outputs": []
    },
    {
      "cell_type": "code",
      "metadata": {
        "id": "IbSGizXdH1Fc",
        "outputId": "1c5834d4-6e5b-44fa-e357-1709b874254f",
        "colab": {
          "base_uri": "https://localhost:8080/"
        }
      },
      "source": [
        "max_error(y_true, y_pred)"
      ],
      "execution_count": 25,
      "outputs": [
        {
          "output_type": "execute_result",
          "data": {
            "text/plain": [
              "30.982994340712565"
            ]
          },
          "metadata": {},
          "execution_count": 25
        }
      ]
    },
    {
      "cell_type": "code",
      "metadata": {
        "id": "NQPVS0cSIAsC",
        "outputId": "6d5ff744-6dca-429f-a2f3-33c685548186",
        "colab": {
          "base_uri": "https://localhost:8080/"
        }
      },
      "source": [
        "from sklearn.metrics import max_error\n",
        "\n",
        "max_error(y_true, y_pred)"
      ],
      "execution_count": 26,
      "outputs": [
        {
          "output_type": "execute_result",
          "data": {
            "text/plain": [
              "30.982994340712565"
            ]
          },
          "metadata": {},
          "execution_count": 26
        }
      ]
    },
    {
      "cell_type": "markdown",
      "metadata": {
        "id": "xRrH2NA5IYt9"
      },
      "source": [
        "### <a name='a7'></a>  R2 score - współczynnik determinacji\n",
        "### $$R2\\_score = 1 - \\frac{\\sum_{i=1}^{N}(y_{true} - y_{pred})^{2}}{\\sum_{i=1}^{N}(y_{true} - \\overline{y_{true}})^{2}}$$"
      ]
    },
    {
      "cell_type": "code",
      "metadata": {
        "id": "ePP8ovwPIGu0",
        "outputId": "722ed46e-4bb3-4769-e052-32411c9716b7",
        "colab": {
          "base_uri": "https://localhost:8080/"
        }
      },
      "source": [
        "from sklearn.metrics import r2_score\n",
        "\n",
        "r2_score(y_true, y_pred)"
      ],
      "execution_count": 27,
      "outputs": [
        {
          "output_type": "execute_result",
          "data": {
            "text/plain": [
              "0.7379968537750543"
            ]
          },
          "metadata": {},
          "execution_count": 27
        }
      ]
    },
    {
      "cell_type": "code",
      "metadata": {
        "id": "GWtiZRcPIsdP"
      },
      "source": [
        "def r2_score(y_true, y_pred):\n",
        "    numerator = ((y_true - y_pred) ** 2).sum()\n",
        "    denominator = ((y_true - y_true.mean()) ** 2).sum()\n",
        "    try:\n",
        "        r2 = 1 - numerator / denominator\n",
        "    except ZeroDivisionError:\n",
        "        print('Dzielenie przez zero')\n",
        "    return r2"
      ],
      "execution_count": 28,
      "outputs": []
    },
    {
      "cell_type": "code",
      "metadata": {
        "id": "q4LYk_8oJNTP",
        "outputId": "689056cb-99e9-4bf3-b1bd-363c21698cb5",
        "colab": {
          "base_uri": "https://localhost:8080/"
        }
      },
      "source": [
        "r2_score(y_true, y_pred)"
      ],
      "execution_count": 29,
      "outputs": [
        {
          "output_type": "execute_result",
          "data": {
            "text/plain": [
              "0.7379968537750543"
            ]
          },
          "metadata": {},
          "execution_count": 29
        }
      ]
    },
    {
      "cell_type": "code",
      "metadata": {
        "id": "YgSXjDoJOKwN"
      },
      "source": [],
      "execution_count": null,
      "outputs": []
    }
  ]
}